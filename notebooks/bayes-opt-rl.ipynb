{
 "cells": [
  {
   "cell_type": "code",
   "execution_count": null,
   "metadata": {},
   "outputs": [],
   "source": [
    "import numpy as np\n",
    "from matplotlib import pyplot as plt\n",
    "from sklearn.gaussian_process import GaussianProcessRegressor\n",
    "from sklearn.gaussian_process.kernels import RBF, ConstantKernel\n",
    "from public_datasets_game.bayes_opt import BayesOptGame\n",
    "from public_datasets_game.mechanism import PrivateFunding\n",
    "\n",
    "\n",
    "env = BayesOptGame(\n",
    "    num_consumers=3, mechanism=PrivateFunding(agent_budget_per_collector_step=2)\n",
    ")\n",
    "action = {agent: env.action_space(agent).sample() for agent in env.agents}\n",
    "env.step(action)[0]\n",
    "\n",
    "kernel = ConstantKernel() * RBF(length_scale=1.0, length_scale_bounds=(1e-1, 1e2))\n",
    "consumer = env.consumers[0]\n"
   ]
  },
  {
   "cell_type": "code",
   "execution_count": null,
   "metadata": {},
   "outputs": [],
   "source": [
    "print(action)"
   ]
  },
  {
   "cell_type": "code",
   "execution_count": null,
   "metadata": {},
   "outputs": [],
   "source": [
    "# collected = np.random.rand(consumer.X.shape[0]) > 0.8\n",
    "collected = consumer.collected\n",
    "\n",
    "collected_points = consumer.X[collected == 1]\n",
    "collected_values = consumer.Y[collected == 1]\n",
    "\n",
    "print(collected.sum())\n",
    "\n",
    "gpr = GaussianProcessRegressor(kernel=kernel)\n",
    "\n",
    "gpr.fit(collected_points, collected_values)\n",
    "pred_y = gpr.predict(consumer.X)\n",
    "\n",
    "pred_y = pred_y.reshape(50, 50)\n",
    "real_y = consumer.Y.reshape(50, 50)\n",
    "\n",
    "fig, axs = plt.subplots(1, 2)\n",
    "axs[0].imshow(real_y)\n",
    "axs[1].imshow(pred_y)\n"
   ]
  }
 ],
 "metadata": {
  "kernelspec": {
   "display_name": ".venv",
   "language": "python",
   "name": "python3"
  },
  "language_info": {
   "codemirror_mode": {
    "name": "ipython",
    "version": 3
   },
   "file_extension": ".py",
   "mimetype": "text/x-python",
   "name": "python",
   "nbconvert_exporter": "python",
   "pygments_lexer": "ipython3",
   "version": "3.12.8"
  }
 },
 "nbformat": 4,
 "nbformat_minor": 2
}
